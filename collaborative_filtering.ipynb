{
 "cells": [
  {
   "cell_type": "code",
   "execution_count": 1,
   "metadata": {},
   "outputs": [],
   "source": [
    "from matplotlib import pyplot as plt\n",
    "import numpy as np\n",
    "import pandas as pd\n",
    "import torch\n",
    "\n",
    "from utils import *\n",
    "from models import MatrixFactorization, NCF\n",
    "from datasets import MovieLens"
   ]
  },
  {
   "cell_type": "code",
   "execution_count": 2,
   "metadata": {},
   "outputs": [],
   "source": [
    "np.random.seed(42)"
   ]
  },
  {
   "cell_type": "markdown",
   "metadata": {},
   "source": [
    "# First tutorial\n",
    "Mostly following [this](https://www.ethanrosenthal.com/2017/06/20/matrix-factorization-in-pytorch/)\n",
    "\n",
    "Another of other resources:\n",
    "\n",
    "[NCF model for ranked](https://towardsdatascience.com/recommender-systems-using-deep-learning-in-pytorch-from-scratch-f661b8f391d7)\n",
    "\n",
    "[Another, slightly too comp,licated NCF model for ranked](https://medium.com/@iliazaitsev/how-to-implement-a-recommendation-system-with-deep-learning-and-pytorch-2d40476590f9)"
   ]
  },
  {
   "cell_type": "markdown",
   "metadata": {},
   "source": [
    "## Load Data"
   ]
  },
  {
   "cell_type": "code",
   "execution_count": 3,
   "metadata": {},
   "outputs": [],
   "source": [
    "data = MovieLens('data/raw/ml-latest-small/ratings.csv')\n",
    "movies = pd.read_csv('data/raw/ml-latest-small/movies.csv')\n",
    "\n",
    "# data = MovieLens('data/raw/ml-100k/u.data', \n",
    "#                 data_kwargs={'sep':'\\t', \n",
    "#                              'names': ['userId', 'movieId', 'rating', 'timestamp']}\n",
    "#                )\n",
    "data_stats = data.get_stats()"
   ]
  },
  {
   "cell_type": "markdown",
   "metadata": {},
   "source": [
    "## Build model\n",
    "\n",
    "Two models: Matrix Factorization and NCF."
   ]
  },
  {
   "cell_type": "code",
   "execution_count": 4,
   "metadata": {},
   "outputs": [],
   "source": [
    "MF_model = MatrixFactorization(data_stats['n_users'], data_stats['n_items'], \n",
    "                            n_factors=50, bias=True, y_range=(0,5))\n",
    "NCF_model = NCF(data_stats['n_users'], data_stats['n_items'],\n",
    "               n_factors=50, y_range=(0,5))\n",
    "loss_fun = torch.nn.MSELoss()\n",
    "MF_opt = torch.optim.AdamW(MF_model.parameters(), lr=.001, \n",
    "                                    weight_decay=2e-4)\n",
    "NCF_opt = torch.optim.AdamW(NCF_model.parameters(), lr=.001, \n",
    "                                    weight_decay=2e-4)\n",
    "MF_history = None\n",
    "NCF_history = None"
   ]
  },
  {
   "cell_type": "markdown",
   "metadata": {},
   "source": [
    "## Train"
   ]
  },
  {
   "cell_type": "code",
   "execution_count": 5,
   "metadata": {},
   "outputs": [
    {
     "name": "stdout",
     "output_type": "stream",
     "text": [
      "[Epoch 1] loss: 1.465 validation loss: 0.922\n",
      "[Epoch 2] loss: 0.751 validation loss: 0.765\n",
      "[Epoch 3] loss: 0.566 validation loss: 0.735\n",
      "[Epoch 4] loss: 0.429 validation loss: 0.731\n",
      "[Epoch 5] loss: 0.326 validation loss: 0.741\n"
     ]
    }
   ],
   "source": [
    "MF_history = train(MF_model, data, loss_fun, MF_opt, n_epochs=5, \n",
    "                print_epochs=1, history=MF_history)"
   ]
  },
  {
   "cell_type": "code",
   "execution_count": 6,
   "metadata": {},
   "outputs": [
    {
     "name": "stdout",
     "output_type": "stream",
     "text": [
      "[Epoch 1] loss: 1.033 validation loss: 0.910\n",
      "[Epoch 2] loss: 0.917 validation loss: 0.863\n",
      "[Epoch 3] loss: 0.859 validation loss: 0.827\n",
      "[Epoch 4] loss: 0.810 validation loss: 0.801\n",
      "[Epoch 5] loss: 0.772 validation loss: 0.783\n",
      "[Epoch 6] loss: 0.746 validation loss: 0.772\n",
      "[Epoch 7] loss: 0.726 validation loss: 0.766\n",
      "[Epoch 8] loss: 0.710 validation loss: 0.758\n",
      "[Epoch 9] loss: 0.695 validation loss: 0.760\n",
      "[Epoch 10] loss: 0.685 validation loss: 0.756\n",
      "[Epoch 11] loss: 0.677 validation loss: 0.751\n",
      "[Epoch 12] loss: 0.669 validation loss: 0.754\n",
      "[Epoch 13] loss: 0.665 validation loss: 0.754\n",
      "[Epoch 14] loss: 0.657 validation loss: 0.757\n",
      "[Epoch 15] loss: 0.652 validation loss: 0.750\n"
     ]
    }
   ],
   "source": [
    "NCF_history = train(NCF_model, data, loss_fun, NCF_opt, n_epochs=15, \n",
    "                print_epochs=1, history=NCF_history)"
   ]
  },
  {
   "cell_type": "markdown",
   "metadata": {},
   "source": [
    "## Look at training curve"
   ]
  },
  {
   "cell_type": "code",
   "execution_count": 7,
   "metadata": {},
   "outputs": [],
   "source": [
    "history = NCF_history # MF_history\n",
    "model = NCF_model # MF_model"
   ]
  },
  {
   "cell_type": "code",
   "execution_count": 8,
   "metadata": {},
   "outputs": [
    {
     "data": {
      "text/plain": [
       "Text(0, 0.5, 'MSE')"
      ]
     },
     "execution_count": 8,
     "metadata": {},
     "output_type": "execute_result"
    },
    {
     "data": {
      "image/png": "[encoded data removed]",
      "text/plain": [
       "<Figure size 864x576 with 1 Axes>"
      ]
     },
     "metadata": {
      "needs_background": "light"
     },
     "output_type": "display_data"
    }
   ],
   "source": [
    "plt.figure(figsize=(12,8))\n",
    "plt.plot([i['train_loss'] for i in history], lw=3, label='train')\n",
    "plt.plot([i['val_loss'] for i in history], lw=3, label='val')\n",
    "plt.legend()\n",
    "plt.xlabel('epoch')\n",
    "plt.ylabel('MSE')"
   ]
  },
  {
   "cell_type": "markdown",
   "metadata": {},
   "source": [
    "## Final Evaluation"
   ]
  },
  {
   "cell_type": "code",
   "execution_count": 9,
   "metadata": {},
   "outputs": [],
   "source": [
    "corr = lambda pred, true: np.corrcoef(pred, true)[1,0]\n",
    "MSE = lambda pred, true: torch.nn.MSELoss()(pred, true).item()\n",
    "metric_funs = {'correlation': corr,\n",
    "              'MSE': MSE}\n",
    "metrics = evaluate(model, data, metric_funs)"
   ]
  },
  {
   "cell_type": "markdown",
   "metadata": {},
   "source": [
    "### Training data"
   ]
  },
  {
   "cell_type": "code",
   "execution_count": 10,
   "metadata": {},
   "outputs": [
    {
     "data": {
      "text/plain": [
       "Text(0.1, 0.2, 'MSE: 0.59')"
      ]
     },
     "execution_count": 10,
     "metadata": {},
     "output_type": "execute_result"
    },
    {
     "data": {
      "image/png": "[encoded data removed]",
      "text/plain": [
       "<Figure size 432x288 with 1 Axes>"
      ]
     },
     "metadata": {
      "needs_background": "light"
     },
     "output_type": "display_data"
    }
   ],
   "source": [
    "yhat, y = get_pred_true(model, data, 'train')\n",
    "plt.scatter(y, yhat.detach(), alpha=.01)\n",
    "ax = plt.gca()\n",
    "plt.text(.1,.1,\n",
    "         \"Correlation: %s\" % metrics['train_correlation'].round(2),\n",
    "         transform=ax.transAxes)\n",
    "plt.text(.1,.2,\n",
    "         \"MSE: %s\" % np.round(metrics['train_MSE'],2),\n",
    "         transform=ax.transAxes)"
   ]
  },
  {
   "cell_type": "markdown",
   "metadata": {},
   "source": [
    "### Validation data"
   ]
  },
  {
   "cell_type": "code",
   "execution_count": 11,
   "metadata": {},
   "outputs": [
    {
     "data": {
      "text/plain": [
       "Text(0.1, 0.2, 'MSE: 0.75')"
      ]
     },
     "execution_count": 11,
     "metadata": {},
     "output_type": "execute_result"
    },
    {
     "data": {
      "image/png": "[encoded data removed]",
      "text/plain": [
       "<Figure size 432x288 with 1 Axes>"
      ]
     },
     "metadata": {
      "needs_background": "light"
     },
     "output_type": "display_data"
    }
   ],
   "source": [
    "yhat, y = get_pred_true(model, data, 'val')\n",
    "plt.scatter(y, yhat.detach(), alpha=.01)\n",
    "ax = plt.gca()\n",
    "plt.text(.1,.1,\n",
    "         \"Correlation: %s\" % metrics['val_correlation'].round(2),\n",
    "         transform=ax.transAxes)\n",
    "plt.text(.1,.2,\n",
    "         \"MSE: %s\" % np.round(metrics['val_MSE'],2),\n",
    "         transform=ax.transAxes)"
   ]
  },
  {
   "cell_type": "markdown",
   "metadata": {},
   "source": [
    "## Embedding Evaluation"
   ]
  },
  {
   "cell_type": "code",
   "execution_count": 12,
   "metadata": {},
   "outputs": [],
   "source": [
    "import pandas as pd\n",
    "movies.index = movies.movieId"
   ]
  },
  {
   "cell_type": "code",
   "execution_count": 13,
   "metadata": {},
   "outputs": [],
   "source": [
    "item_embeddings = model.item_embedding.weight.detach().numpy()\n",
    "reverse_map = {v:k for k,v in data.itemIdmap.items()}"
   ]
  },
  {
   "cell_type": "code",
   "execution_count": 14,
   "metadata": {},
   "outputs": [],
   "source": [
    "corr = np.corrcoef(item_embeddings)\n",
    "corr[corr>.9999]=0"
   ]
  },
  {
   "cell_type": "code",
   "execution_count": 15,
   "metadata": {},
   "outputs": [
    {
     "name": "stdout",
     "output_type": "stream",
     "text": [
      "movieId               56145\n",
      "title      Mist, The (2007)\n",
      "genres        Horror|Sci-Fi\n",
      "Name: 56145, dtype: object\n"
     ]
    },
    {
     "data": {
      "text/html": [
       "<div>\n",
       "<style scoped>\n",
       "    .dataframe tbody tr th:only-of-type {\n",
       "        vertical-align: middle;\n",
       "    }\n",
       "\n",
       "    .dataframe tbody tr th {\n",
       "        vertical-align: top;\n",
       "    }\n",
       "\n",
       "    .dataframe thead th {\n",
       "        text-align: right;\n",
       "    }\n",
       "</style>\n",
       "<table border=\"1\" class=\"dataframe\">\n",
       "  <thead>\n",
       "    <tr style=\"text-align: right;\">\n",
       "      <th></th>\n",
       "      <th>movieId</th>\n",
       "      <th>title</th>\n",
       "      <th>genres</th>\n",
       "    </tr>\n",
       "    <tr>\n",
       "      <th>movieId</th>\n",
       "      <th></th>\n",
       "      <th></th>\n",
       "      <th></th>\n",
       "    </tr>\n",
       "  </thead>\n",
       "  <tbody>\n",
       "    <tr>\n",
       "      <th>3865</th>\n",
       "      <td>3865</td>\n",
       "      <td>Original Kings of Comedy, The (2000)</td>\n",
       "      <td>Comedy|Documentary</td>\n",
       "    </tr>\n",
       "    <tr>\n",
       "      <th>4963</th>\n",
       "      <td>4963</td>\n",
       "      <td>Ocean's Eleven (2001)</td>\n",
       "      <td>Crime|Thriller</td>\n",
       "    </tr>\n",
       "    <tr>\n",
       "      <th>4306</th>\n",
       "      <td>4306</td>\n",
       "      <td>Shrek (2001)</td>\n",
       "      <td>Adventure|Animation|Children|Comedy|Fantasy|Ro...</td>\n",
       "    </tr>\n",
       "    <tr>\n",
       "      <th>7</th>\n",
       "      <td>7</td>\n",
       "      <td>Sabrina (1995)</td>\n",
       "      <td>Comedy|Romance</td>\n",
       "    </tr>\n",
       "    <tr>\n",
       "      <th>2266</th>\n",
       "      <td>2266</td>\n",
       "      <td>Butcher's Wife, The (1991)</td>\n",
       "      <td>Comedy|Romance</td>\n",
       "    </tr>\n",
       "    <tr>\n",
       "      <th>4293</th>\n",
       "      <td>4293</td>\n",
       "      <td>Summer Rental (1985)</td>\n",
       "      <td>Comedy</td>\n",
       "    </tr>\n",
       "    <tr>\n",
       "      <th>132454</th>\n",
       "      <td>132454</td>\n",
       "      <td>Girltrash: All Night Long (2014)</td>\n",
       "      <td>Comedy|Crime|Drama</td>\n",
       "    </tr>\n",
       "    <tr>\n",
       "      <th>163134</th>\n",
       "      <td>163134</td>\n",
       "      <td>Your Name. (2016)</td>\n",
       "      <td>Animation|Drama|Fantasy|Romance</td>\n",
       "    </tr>\n",
       "    <tr>\n",
       "      <th>5120</th>\n",
       "      <td>5120</td>\n",
       "      <td>Sleuth (1972)</td>\n",
       "      <td>Comedy|Mystery|Thriller</td>\n",
       "    </tr>\n",
       "    <tr>\n",
       "      <th>3910</th>\n",
       "      <td>3910</td>\n",
       "      <td>Dancer in the Dark (2000)</td>\n",
       "      <td>Drama|Musical</td>\n",
       "    </tr>\n",
       "    <tr>\n",
       "      <th>7349</th>\n",
       "      <td>7349</td>\n",
       "      <td>Broken Wings (Knafayim Shvurot) (2002)</td>\n",
       "      <td>Drama</td>\n",
       "    </tr>\n",
       "    <tr>\n",
       "      <th>4077</th>\n",
       "      <td>4077</td>\n",
       "      <td>With a Friend Like Harry... (Harry, un ami qui...</td>\n",
       "      <td>Drama|Thriller</td>\n",
       "    </tr>\n",
       "    <tr>\n",
       "      <th>136800</th>\n",
       "      <td>136800</td>\n",
       "      <td>Robot Overlords (2014)</td>\n",
       "      <td>Action|Adventure|Sci-Fi</td>\n",
       "    </tr>\n",
       "    <tr>\n",
       "      <th>50804</th>\n",
       "      <td>50804</td>\n",
       "      <td>Hannibal Rising (2007)</td>\n",
       "      <td>Drama|Horror|Thriller</td>\n",
       "    </tr>\n",
       "    <tr>\n",
       "      <th>78544</th>\n",
       "      <td>78544</td>\n",
       "      <td>Ricky Gervais Live 3: Fame (2007)</td>\n",
       "      <td>Comedy</td>\n",
       "    </tr>\n",
       "    <tr>\n",
       "      <th>4788</th>\n",
       "      <td>4788</td>\n",
       "      <td>Moscow Does Not Believe in Tears (Moskva sleza...</td>\n",
       "      <td>Drama|Romance</td>\n",
       "    </tr>\n",
       "    <tr>\n",
       "      <th>2505</th>\n",
       "      <td>2505</td>\n",
       "      <td>8MM (1999)</td>\n",
       "      <td>Drama|Mystery|Thriller</td>\n",
       "    </tr>\n",
       "    <tr>\n",
       "      <th>414</th>\n",
       "      <td>414</td>\n",
       "      <td>Air Up There, The (1994)</td>\n",
       "      <td>Comedy</td>\n",
       "    </tr>\n",
       "    <tr>\n",
       "      <th>91542</th>\n",
       "      <td>91542</td>\n",
       "      <td>Sherlock Holmes: A Game of Shadows (2011)</td>\n",
       "      <td>Action|Adventure|Comedy|Crime|Mystery|Thriller</td>\n",
       "    </tr>\n",
       "    <tr>\n",
       "      <th>27003</th>\n",
       "      <td>27003</td>\n",
       "      <td>Beowulf (1999)</td>\n",
       "      <td>Action|Horror|Sci-Fi</td>\n",
       "    </tr>\n",
       "  </tbody>\n",
       "</table>\n",
       "</div>"
      ],
      "text/plain": [
       "         movieId                                              title  \\\n",
       "movieId                                                               \n",
       "3865        3865               Original Kings of Comedy, The (2000)   \n",
       "4963        4963                              Ocean's Eleven (2001)   \n",
       "4306        4306                                       Shrek (2001)   \n",
       "7              7                                     Sabrina (1995)   \n",
       "2266        2266                         Butcher's Wife, The (1991)   \n",
       "4293        4293                               Summer Rental (1985)   \n",
       "132454    132454                   Girltrash: All Night Long (2014)   \n",
       "163134    163134                                  Your Name. (2016)   \n",
       "5120        5120                                      Sleuth (1972)   \n",
       "3910        3910                          Dancer in the Dark (2000)   \n",
       "7349        7349             Broken Wings (Knafayim Shvurot) (2002)   \n",
       "4077        4077  With a Friend Like Harry... (Harry, un ami qui...   \n",
       "136800    136800                             Robot Overlords (2014)   \n",
       "50804      50804                             Hannibal Rising (2007)   \n",
       "78544      78544                  Ricky Gervais Live 3: Fame (2007)   \n",
       "4788        4788  Moscow Does Not Believe in Tears (Moskva sleza...   \n",
       "2505        2505                                         8MM (1999)   \n",
       "414          414                           Air Up There, The (1994)   \n",
       "91542      91542          Sherlock Holmes: A Game of Shadows (2011)   \n",
       "27003      27003                                     Beowulf (1999)   \n",
       "\n",
       "                                                    genres  \n",
       "movieId                                                     \n",
       "3865                                    Comedy|Documentary  \n",
       "4963                                        Crime|Thriller  \n",
       "4306     Adventure|Animation|Children|Comedy|Fantasy|Ro...  \n",
       "7                                           Comedy|Romance  \n",
       "2266                                        Comedy|Romance  \n",
       "4293                                                Comedy  \n",
       "132454                                  Comedy|Crime|Drama  \n",
       "163134                     Animation|Drama|Fantasy|Romance  \n",
       "5120                               Comedy|Mystery|Thriller  \n",
       "3910                                         Drama|Musical  \n",
       "7349                                                 Drama  \n",
       "4077                                        Drama|Thriller  \n",
       "136800                             Action|Adventure|Sci-Fi  \n",
       "50804                                Drama|Horror|Thriller  \n",
       "78544                                               Comedy  \n",
       "4788                                         Drama|Romance  \n",
       "2505                                Drama|Mystery|Thriller  \n",
       "414                                                 Comedy  \n",
       "91542       Action|Adventure|Comedy|Crime|Mystery|Thriller  \n",
       "27003                                 Action|Horror|Sci-Fi  "
      ]
     },
     "execution_count": 15,
     "metadata": {},
     "output_type": "execute_result"
    }
   ],
   "source": [
    "item_id = 56145 # np.random.choice(movies.index)\n",
    "mapped_id = data.itemIdmap[item_id]\n",
    "similar = np.argsort(corr[mapped_id,:])\n",
    "similar_ids = [reverse_map[i] for i in similar[-20:]][::-1]\n",
    "\n",
    "print(movies.loc[item_id])\n",
    "movies.loc[similar_ids]"
   ]
  },
  {
   "cell_type": "markdown",
   "metadata": {},
   "source": [
    "## Use surprise"
   ]
  },
  {
   "cell_type": "code",
   "execution_count": 16,
   "metadata": {},
   "outputs": [],
   "source": [
    "from surprise import Reader, Dataset\n",
    "from surprise import SVD\n",
    "from surprise.model_selection import cross_validate"
   ]
  },
  {
   "cell_type": "code",
   "execution_count": 17,
   "metadata": {},
   "outputs": [],
   "source": [
    "ratings = data.ratings_df # reading data in pandas df\n",
    "\n",
    "\n",
    "# to load dataset from pandas df, we need `load_fromm_df` method in surprise lib\n",
    "\n",
    "ratings_dict = {'itemID': list(ratings.itemId),\n",
    "                'userID': list(ratings.userId),\n",
    "                'rating': list(ratings.rating)}\n",
    "df = pd.DataFrame(ratings_dict)\n",
    "\n",
    "# A reader is still needed but only the rating_scale param is required.\n",
    "# The Reader class is used to parse a file containing ratings.\n",
    "reader = Reader(rating_scale=(0.5, 5.0))\n",
    "\n",
    "# The columns must correspond to user id, item id and ratings (in that order).\n",
    "surprise_data = Dataset.load_from_df(df[['userID', 'itemID', 'rating']], reader)"
   ]
  },
  {
   "cell_type": "code",
   "execution_count": 18,
   "metadata": {},
   "outputs": [
    {
     "name": "stdout",
     "output_type": "stream",
     "text": [
      "Evaluating RMSE, MAE of algorithm SVD on 5 split(s).\n",
      "\n",
      "                  Fold 1  Fold 2  Fold 3  Fold 4  Fold 5  Mean    Std     \n",
      "RMSE (testset)    0.8827  0.8704  0.8640  0.8723  0.8843  0.8748  0.0077  \n",
      "MAE (testset)     0.6754  0.6694  0.6647  0.6700  0.6802  0.6719  0.0053  \n",
      "Fit time          3.62    3.65    3.61    3.62    3.64    3.63    0.02    \n",
      "Test time         0.16    0.14    0.09    0.08    0.15    0.12    0.03    \n"
     ]
    },
    {
     "data": {
      "text/plain": [
       "{'test_rmse': array([0.88272302, 0.87042332, 0.86404814, 0.87234592, 0.88430954]),\n",
       " 'test_mae': array([0.67542164, 0.66939297, 0.66471286, 0.67001005, 0.68019892]),\n",
       " 'fit_time': (3.619058847427368,\n",
       "  3.6503207683563232,\n",
       "  3.605498790740967,\n",
       "  3.622065305709839,\n",
       "  3.63820219039917),\n",
       " 'test_time': (0.16097307205200195,\n",
       "  0.1422441005706787,\n",
       "  0.08700323104858398,\n",
       "  0.08219790458679199,\n",
       "  0.14667701721191406)}"
      ]
     },
     "execution_count": 18,
     "metadata": {},
     "output_type": "execute_result"
    }
   ],
   "source": [
    "algo = SVD()\n",
    "cross_validate(algo, surprise_data, measures=['RMSE', 'MAE'], cv=5, verbose=True)"
   ]
  }
 ],
 "metadata": {
  "kernelspec": {
   "display_name": "Python 3",
   "language": "python",
   "name": "python3"
  },
  "language_info": {
   "codemirror_mode": {
    "name": "ipython",
    "version": 3
   },
   "file_extension": ".py",
   "mimetype": "text/x-python",
   "name": "python",
   "nbconvert_exporter": "python",
   "pygments_lexer": "ipython3",
   "version": "3.6.9"
  }
 },
 "nbformat": 4,
 "nbformat_minor": 4
}
