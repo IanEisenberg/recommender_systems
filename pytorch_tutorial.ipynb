{
 "cells": [
  {
   "cell_type": "markdown",
   "metadata": {},
   "source": [
    "Following [this tutorial](https://towardsdatascience.com/understanding-pytorch-with-an-example-a-step-by-step-tutorial-81fc5f8c4e8e)"
   ]
  },
  {
   "cell_type": "code",
   "execution_count": 1,
   "metadata": {},
   "outputs": [],
   "source": [
    "import matplotlib.pyplot as plt\n",
    "import numpy as np\n",
    "import seaborn as sns\n",
    "from sklearn.model_selection import train_test_split"
   ]
  },
  {
   "cell_type": "code",
   "execution_count": 2,
   "metadata": {},
   "outputs": [],
   "source": [
    "import torch\n",
    "import torch.optim as optim\n",
    "import torch.nn as nn\n",
    "from torchviz import make_dot\n",
    "\n",
    "device = 'cuda' if torch.cuda.is_available() else 'cpu'"
   ]
  },
  {
   "cell_type": "code",
   "execution_count": 3,
   "metadata": {},
   "outputs": [],
   "source": [
    "sns.set_context('notebook')\n",
    "%matplotlib inline"
   ]
  },
  {
   "cell_type": "markdown",
   "metadata": {},
   "source": [
    "## Regression"
   ]
  },
  {
   "cell_type": "markdown",
   "metadata": {},
   "source": [
    "### Data generation"
   ]
  },
  {
   "cell_type": "code",
   "execution_count": 105,
   "metadata": {},
   "outputs": [],
   "source": [
    "np.random.seed(42)\n",
    "X = np.random.rand(100,1)\n",
    "Y = 1 + 2*X + .1*np.random.randn(100,1)\n",
    "\n",
    "x_train, x_test, y_train, y_test = train_test_split(X, Y, test_size=.2) "
   ]
  },
  {
   "cell_type": "code",
   "execution_count": 5,
   "metadata": {},
   "outputs": [
    {
     "data": {
      "text/plain": [
       "[<matplotlib.lines.Line2D at 0x7fea905c7b70>]"
      ]
     },
     "execution_count": 5,
     "metadata": {},
     "output_type": "execute_result"
    },
    {
     "data": {
      "image/png": "[encoded data removed]",
      "text/plain": [
       "<Figure size 864x432 with 2 Axes>"
      ]
     },
     "metadata": {
      "needs_background": "light"
     },
     "output_type": "display_data"
    }
   ],
   "source": [
    "plt.figure(figsize=(12,6))\n",
    "plt.subplot(1,2,1)\n",
    "plt.plot(x_train, y_train, 'o')\n",
    "plt.subplot(1,2,2)\n",
    "plt.plot(x_test, y_test, 'o')"
   ]
  },
  {
   "cell_type": "markdown",
   "metadata": {},
   "source": [
    "## Fit Model"
   ]
  },
  {
   "cell_type": "markdown",
   "metadata": {},
   "source": [
    "First we will do this without an optimizer"
   ]
  },
  {
   "cell_type": "code",
   "execution_count": 20,
   "metadata": {},
   "outputs": [],
   "source": [
    "# a/b\n",
    "params = torch.randn(2, requires_grad=True, dtype=torch.float, device=device)\n",
    "\n",
    "nepochs = 1000\n",
    "lr = .1\n",
    "loss_fun = torch.nn.MSELoss()\n",
    "for epoch in range(nepochs):\n",
    "    x = torch.from_numpy(x_train).to(device)\n",
    "    y = torch.from_numpy(y_train).to(device)\n",
    "    yhat = params[0]+params[1]*x\n",
    "    loss = loss_fun(yhat, y)\n",
    "    \n",
    "    # compute gradient\n",
    "    \n",
    "    loss.backward()\n",
    "    # update parameters\n",
    "    with torch.no_grad():\n",
    "        params -= lr*params.grad\n",
    "    params.grad.zero_()"
   ]
  },
  {
   "cell_type": "code",
   "execution_count": 27,
   "metadata": {},
   "outputs": [
    {
     "data": {
      "image/svg+xml": [
       "<?xml version=\"1.0\" encoding=\"UTF-8\" standalone=\"no\"?>\n",
       "<!DOCTYPE svg PUBLIC \"-//W3C//DTD SVG 1.1//EN\"\n",
       " \"http://www.w3.org/Graphics/SVG/1.1/DTD/svg11.dtd\">\n",
       "<!-- Generated by graphviz version 2.43.0 (0)\n",
       " -->\n",
       "<!-- Title: %3 Pages: 1 -->\n",
       "<svg width=\"210pt\" height=\"266pt\"\n",
       " viewBox=\"0.00 0.00 210.31 266.00\" xmlns=\"http://www.w3.org/2000/svg\" xmlns:xlink=\"http://www.w3.org/1999/xlink\">\n",
       "<g id=\"graph0\" class=\"graph\" transform=\"scale(1 1) rotate(0) translate(4 262)\">\n",
       "<title>%3</title>\n",
       "<polygon fill=\"white\" stroke=\"transparent\" points=\"-4,4 -4,-262 206.31,-262 206.31,4 -4,4\"/>\n",
       "<!-- 140644075444992 -->\n",
       "<g id=\"node1\" class=\"node\">\n",
       "<title>140644075444992</title>\n",
       "<polygon fill=\"#caff70\" stroke=\"black\" points=\"155.96,-20 48,-20 48,0 155.96,0 155.96,-20\"/>\n",
       "<text text-anchor=\"middle\" x=\"101.98\" y=\"-6.4\" font-family=\"Times,serif\" font-size=\"12.00\">MseLossBackward</text>\n",
       "</g>\n",
       "<!-- 140644075417048 -->\n",
       "<g id=\"node2\" class=\"node\">\n",
       "<title>140644075417048</title>\n",
       "<polygon fill=\"lightgrey\" stroke=\"black\" points=\"147.79,-76 56.17,-76 56.17,-56 147.79,-56 147.79,-76\"/>\n",
       "<text text-anchor=\"middle\" x=\"101.98\" y=\"-62.4\" font-family=\"Times,serif\" font-size=\"12.00\">AddBackward0</text>\n",
       "</g>\n",
       "<!-- 140644075417048&#45;&gt;140644075444992 -->\n",
       "<g id=\"edge1\" class=\"edge\">\n",
       "<title>140644075417048&#45;&gt;140644075444992</title>\n",
       "<path fill=\"none\" stroke=\"black\" d=\"M101.98,-55.59C101.98,-48.7 101.98,-39.1 101.98,-30.57\"/>\n",
       "<polygon fill=\"black\" stroke=\"black\" points=\"105.48,-30.3 101.98,-20.3 98.48,-30.3 105.48,-30.3\"/>\n",
       "</g>\n",
       "<!-- 140644075414696 -->\n",
       "<g id=\"node3\" class=\"node\">\n",
       "<title>140644075414696</title>\n",
       "<polygon fill=\"lightgrey\" stroke=\"black\" points=\"93.95,-132 0.02,-132 0.02,-112 93.95,-112 93.95,-132\"/>\n",
       "<text text-anchor=\"middle\" x=\"46.98\" y=\"-118.4\" font-family=\"Times,serif\" font-size=\"12.00\">SelectBackward</text>\n",
       "</g>\n",
       "<!-- 140644075414696&#45;&gt;140644075417048 -->\n",
       "<g id=\"edge2\" class=\"edge\">\n",
       "<title>140644075414696&#45;&gt;140644075417048</title>\n",
       "<path fill=\"none\" stroke=\"black\" d=\"M56.56,-111.59C64.45,-103.85 75.82,-92.69 85.21,-83.47\"/>\n",
       "<polygon fill=\"black\" stroke=\"black\" points=\"87.83,-85.8 92.51,-76.3 82.92,-80.81 87.83,-85.8\"/>\n",
       "</g>\n",
       "<!-- 140644075415872 -->\n",
       "<g id=\"node4\" class=\"node\">\n",
       "<title>140644075415872</title>\n",
       "<polygon fill=\"lightblue\" stroke=\"black\" points=\"127.98,-258 73.98,-258 73.98,-224 127.98,-224 127.98,-258\"/>\n",
       "<text text-anchor=\"middle\" x=\"100.98\" y=\"-230.4\" font-family=\"Times,serif\" font-size=\"12.00\"> (2)</text>\n",
       "</g>\n",
       "<!-- 140644075415872&#45;&gt;140644075414696 -->\n",
       "<g id=\"edge3\" class=\"edge\">\n",
       "<title>140644075415872&#45;&gt;140644075414696</title>\n",
       "<path fill=\"none\" stroke=\"black\" d=\"M93.47,-223.73C83.47,-202.06 65.83,-163.83 55.39,-141.22\"/>\n",
       "<polygon fill=\"black\" stroke=\"black\" points=\"58.52,-139.65 51.16,-132.04 52.17,-142.59 58.52,-139.65\"/>\n",
       "</g>\n",
       "<!-- 140644075416544 -->\n",
       "<g id=\"node6\" class=\"node\">\n",
       "<title>140644075416544</title>\n",
       "<polygon fill=\"lightgrey\" stroke=\"black\" points=\"194.95,-188 101.02,-188 101.02,-168 194.95,-168 194.95,-188\"/>\n",
       "<text text-anchor=\"middle\" x=\"147.98\" y=\"-174.4\" font-family=\"Times,serif\" font-size=\"12.00\">SelectBackward</text>\n",
       "</g>\n",
       "<!-- 140644075415872&#45;&gt;140644075416544 -->\n",
       "<g id=\"edge6\" class=\"edge\">\n",
       "<title>140644075415872&#45;&gt;140644075416544</title>\n",
       "<path fill=\"none\" stroke=\"black\" d=\"M113.33,-223.97C119.94,-215.4 128.08,-204.83 134.81,-196.09\"/>\n",
       "<polygon fill=\"black\" stroke=\"black\" points=\"137.63,-198.17 140.96,-188.11 132.09,-193.9 137.63,-198.17\"/>\n",
       "</g>\n",
       "<!-- 140644075416712 -->\n",
       "<g id=\"node5\" class=\"node\">\n",
       "<title>140644075416712</title>\n",
       "<polygon fill=\"lightgrey\" stroke=\"black\" points=\"202.13,-132 111.83,-132 111.83,-112 202.13,-112 202.13,-132\"/>\n",
       "<text text-anchor=\"middle\" x=\"156.98\" y=\"-118.4\" font-family=\"Times,serif\" font-size=\"12.00\">MulBackward0</text>\n",
       "</g>\n",
       "<!-- 140644075416712&#45;&gt;140644075417048 -->\n",
       "<g id=\"edge4\" class=\"edge\">\n",
       "<title>140644075416712&#45;&gt;140644075417048</title>\n",
       "<path fill=\"none\" stroke=\"black\" d=\"M147.4,-111.59C139.52,-103.85 128.15,-92.69 118.76,-83.47\"/>\n",
       "<polygon fill=\"black\" stroke=\"black\" points=\"121.04,-80.81 111.45,-76.3 116.14,-85.8 121.04,-80.81\"/>\n",
       "</g>\n",
       "<!-- 140644075416544&#45;&gt;140644075416712 -->\n",
       "<g id=\"edge5\" class=\"edge\">\n",
       "<title>140644075416544&#45;&gt;140644075416712</title>\n",
       "<path fill=\"none\" stroke=\"black\" d=\"M149.55,-167.59C150.71,-160.63 152.33,-150.89 153.77,-142.29\"/>\n",
       "<polygon fill=\"black\" stroke=\"black\" points=\"157.24,-142.74 155.43,-132.3 150.34,-141.59 157.24,-142.74\"/>\n",
       "</g>\n",
       "</g>\n",
       "</svg>\n"
      ],
      "text/plain": [
       "<graphviz.dot.Digraph at 0x7fea71cb6a20>"
      ]
     },
     "execution_count": 27,
     "metadata": {},
     "output_type": "execute_result"
    }
   ],
   "source": [
    "# visualize the graph for the loss\n",
    "make_dot(loss)"
   ]
  },
  {
   "cell_type": "markdown",
   "metadata": {},
   "source": [
    "Now with an optimizer"
   ]
  },
  {
   "cell_type": "code",
   "execution_count": 37,
   "metadata": {},
   "outputs": [],
   "source": [
    "# a/b\n",
    "params = torch.randn(2, requires_grad=True, dtype=torch.float, device=device)\n",
    "\n",
    "nepochs = 1000\n",
    "optimizer = torch.optim.SGD([params], lr=1e-1)\n",
    "loss_fun = torch.nn.MSELoss()\n",
    "for epoch in range(nepochs):\n",
    "    x = torch.from_numpy(x_train).to(device)\n",
    "    y = torch.from_numpy(y_train).to(device)\n",
    "    yhat = params[0]+params[1]*x\n",
    "    loss = loss_fun(yhat, y)\n",
    "    \n",
    "    # compute gradient\n",
    "    loss.backward()\n",
    "    \n",
    "    # update parameters\n",
    "    optimizer.step()\n",
    "    optimizer.zero_grad()"
   ]
  },
  {
   "cell_type": "markdown",
   "metadata": {},
   "source": [
    "Now let's define a model class"
   ]
  },
  {
   "cell_type": "code",
   "execution_count": 48,
   "metadata": {},
   "outputs": [],
   "source": [
    "class LinearRegression(torch.nn.Module):\n",
    "    def __init__(self):\n",
    "        super().__init__()\n",
    "        self.params = torch.nn.Parameter(\n",
    "                            torch.randn(2, requires_grad=True, \n",
    "                            dtype=torch.float, device=device)\n",
    "                        )\n",
    "        \n",
    "    def forward(self, x):\n",
    "        return self.params[0]+self.params[1]*x\n"
   ]
  },
  {
   "cell_type": "code",
   "execution_count": 56,
   "metadata": {},
   "outputs": [],
   "source": [
    "# a/b\n",
    "nepochs = 1000\n",
    "model = LinearRegression()\n",
    "optimizer = torch.optim.SGD(model.parameters(), lr=1e-1)\n",
    "loss_fun = torch.nn.MSELoss()\n",
    "for epoch in range(nepochs):\n",
    "    x = torch.from_numpy(x_train).to(device)\n",
    "    y = torch.from_numpy(y_train).to(device)\n",
    "    model.train() # this is not needed for us now, but is sometimes needed, i.e., dropout\n",
    "    yhat = model(x)\n",
    "    \n",
    "    # compute gradient\n",
    "    loss = loss_fun(yhat, y)\n",
    "    loss.backward()\n",
    "    \n",
    "    # update parameters\n",
    "    optimizer.step()\n",
    "    optimizer.zero_grad()"
   ]
  },
  {
   "cell_type": "code",
   "execution_count": 59,
   "metadata": {},
   "outputs": [],
   "source": [
    "class SimplerLinearRegression(torch.nn.Module):\n",
    "    def __init__(self):\n",
    "        super().__init__()\n",
    "        self.params = nn.Linear(1,1)\n",
    "        \n",
    "    def forward(self, x):\n",
    "        return self.params(x)\n"
   ]
  },
  {
   "cell_type": "code",
   "execution_count": 67,
   "metadata": {},
   "outputs": [],
   "source": [
    "# a/b\n",
    "nepochs = 1000\n",
    "model = SimplerLinearRegression()\n",
    "optimizer = torch.optim.SGD(model.parameters(), lr=1e-1)\n",
    "loss_fun = torch.nn.MSELoss()\n",
    "for epoch in range(nepochs):\n",
    "    x = torch.from_numpy(x_train).float().to(device)\n",
    "    y = torch.from_numpy(y_train).float().to(device)\n",
    "    model.train() # this is not needed for us now, but is sometimes needed, i.e., dropout\n",
    "    yhat = model(x)\n",
    "    \n",
    "    # compute gradient\n",
    "    loss = loss_fun(yhat, y)\n",
    "    loss.backward()\n",
    "    \n",
    "    # update parameters\n",
    "    optimizer.step()\n",
    "    optimizer.zero_grad()"
   ]
  },
  {
   "cell_type": "markdown",
   "metadata": {},
   "source": [
    "## Helpful to abstract training into another function"
   ]
  },
  {
   "cell_type": "code",
   "execution_count": 71,
   "metadata": {},
   "outputs": [],
   "source": [
    "\n",
    "def make_train_step(model, loss_fn, optimizer):\n",
    "    # Builds function that performs a step in the train loop\n",
    "    def train_step(x, y):\n",
    "        # Sets model to TRAIN mode\n",
    "        model.train()\n",
    "        # Makes predictions\n",
    "        yhat = model(x)\n",
    "        # Computes loss\n",
    "        loss = loss_fn(y, yhat)\n",
    "        # Computes gradients\n",
    "        loss.backward()\n",
    "        # Updates parameters and zeroes gradients\n",
    "        optimizer.step()\n",
    "        optimizer.zero_grad()\n",
    "        # Returns the loss\n",
    "        return loss.item()\n",
    "    \n",
    "    # Returns the function that will be called inside the train loop\n",
    "    return train_step"
   ]
  },
  {
   "cell_type": "code",
   "execution_count": 76,
   "metadata": {},
   "outputs": [],
   "source": [
    "model = SimplerLinearRegression()\n",
    "optimizer = torch.optim.SGD(model.parameters(), lr=1e-1)\n",
    "loss_fun = torch.nn.MSELoss()\n",
    "train_step = make_train_step(model, loss_fun, optimizer)\n",
    "\n",
    "nepochs = 1000\n",
    "for epoch in range(nepochs):\n",
    "    x = torch.from_numpy(x_train).float().to(device)\n",
    "    y = torch.from_numpy(y_train).float().to(device)\n",
    "    train_step(x,y)"
   ]
  },
  {
   "cell_type": "markdown",
   "metadata": {},
   "source": [
    "## Let's make a dataset class\n",
    "\n",
    "Creating a custom dataset allows us to make use of dataloaders"
   ]
  },
  {
   "cell_type": "code",
   "execution_count": 78,
   "metadata": {},
   "outputs": [],
   "source": [
    "from torch.utils.data import Dataset, TensorDataset"
   ]
  },
  {
   "cell_type": "code",
   "execution_count": 79,
   "metadata": {},
   "outputs": [],
   "source": [
    "class CustomDataset(Dataset):\n",
    "    def __init__(self, x, y):\n",
    "        self.x = x\n",
    "        self.y = y\n",
    "    \n",
    "    def __getitem__(self, index):\n",
    "        return (self.x[index], self.y[index])\n",
    "    \n",
    "    def __len(self):\n",
    "        return len(self.x)"
   ]
  },
  {
   "cell_type": "code",
   "execution_count": 85,
   "metadata": {},
   "outputs": [],
   "source": [
    "x_train_tensor = torch.from_numpy(x_train).float()\n",
    "y_train_tensor = torch.from_numpy(y_train).float()\n",
    "\n",
    "# our custom class, which just replaces the function of TensorDataset for two tensors\n",
    "train_data = CustomDataset(x_train_tensor, y_train_tensor)\n",
    "\n",
    "# simpler way to do this\n",
    "train_data = TensorDataset(x_train_tensor, y_train_tensor) # have as many tensors as we want"
   ]
  },
  {
   "cell_type": "code",
   "execution_count": 90,
   "metadata": {},
   "outputs": [],
   "source": [
    "from torch.utils.data import DataLoader\n",
    "\n",
    "train_loader = DataLoader(dataset=train_data, batch_size=64, shuffle=True)"
   ]
  },
  {
   "cell_type": "markdown",
   "metadata": {},
   "source": [
    "Train with data loader"
   ]
  },
  {
   "cell_type": "code",
   "execution_count": 91,
   "metadata": {},
   "outputs": [],
   "source": [
    "model = SimplerLinearRegression()\n",
    "optimizer = torch.optim.SGD(model.parameters(), lr=1e-1)\n",
    "loss_fun = torch.nn.MSELoss()\n",
    "\n",
    "\n",
    "losses = []\n",
    "nepochs=1000\n",
    "train_step = make_train_step(model, loss_fun, optimizer)\n",
    "\n",
    "for epoch in range(nepochs):\n",
    "    for x_batch, y_batch in train_loader:\n",
    "        # the dataset \"lives\" in the CPU, so do our mini-batches\n",
    "        # therefore, we need to send those mini-batches to the\n",
    "        # device where the model \"lives\"\n",
    "        x_batch = x_batch.to(device)\n",
    "        y_batch = y_batch.to(device)\n",
    "        \n",
    "        loss = train_step(x_batch, y_batch)\n",
    "        losses.append(loss)"
   ]
  },
  {
   "cell_type": "markdown",
   "metadata": {},
   "source": [
    "There are other ways to split the data. Before we split the dataset when they were numpy arrays, created separate datasets and then created separate dataloaders (well, we actually only created the train dataloader, but validation would be the same).\n",
    "\n",
    "We can use `random_split` instead to split a dataset. This allows us to...\n",
    "\n",
    "## Evaluate"
   ]
  },
  {
   "cell_type": "code",
   "execution_count": 111,
   "metadata": {},
   "outputs": [],
   "source": [
    "from torch.utils.data.dataset import random_split\n",
    "\n",
    "dataset = TensorDataset(torch.from_numpy(X).float(),\n",
    "                        torch.from_numpy(Y).float())\n",
    "train_len = int(len(dataset)*.8)\n",
    "val_len = int(len(dataset)*.1)\n",
    "test_len = len(dataset) - train_len - val_len\n",
    "train_dataset, validation_dataset, test_dataset = random_split(dataset, [train_len,\n",
    "                                                                        val_len,\n",
    "                                                                        test_len])"
   ]
  },
  {
   "cell_type": "code",
   "execution_count": 117,
   "metadata": {},
   "outputs": [],
   "source": [
    "train_loader = DataLoader(dataset=train_dataset, batch_size=16)\n",
    "val_loader = DataLoader(dataset=validation_dataset, batch_size=20)\n",
    "test_loader = DataLoader(dataset=test_dataset, batch_size=20)"
   ]
  },
  {
   "cell_type": "code",
   "execution_count": 135,
   "metadata": {},
   "outputs": [],
   "source": [
    "losses = []\n",
    "val_losses = []\n",
    "nepochs=1000\n",
    "\n",
    "model = nn.Sequential(nn.Linear(1,1))\n",
    "loss_fun = nn.MSELoss()\n",
    "optimizer = torch.optim.SGD(model.parameters(), lr=1E-1)\n",
    "train_step = make_train_step(model, loss_fun, optimizer)\n",
    "for epoch in range(nepochs):\n",
    "    model.train()\n",
    "    for x_batch, y_batch in train_loader:\n",
    "        x_batch = x_batch.to(device)\n",
    "        y_batch = y_batch.to(device)\n",
    "        yhat = model(inputs)\n",
    "        loss = train_step(inputs, outputs)\n",
    "        losses.append(loss)\n",
    "        \n",
    "    with torch.no_grad():\n",
    "        model.eval()\n",
    "        for x_val, y_val in val_loader:\n",
    "            x_val = x_val.to(device)\n",
    "            y_val = y_val.to(device)\n",
    "            val_losses.append(loss_fun(model(x_val), y_val).item())"
   ]
  },
  {
   "cell_type": "code",
   "execution_count": null,
   "metadata": {},
   "outputs": [],
   "source": []
  }
 ],
 "metadata": {
  "kernelspec": {
   "display_name": "Python 3",
   "language": "python",
   "name": "python3"
  },
  "language_info": {
   "codemirror_mode": {
    "name": "ipython",
    "version": 3
   },
   "file_extension": ".py",
   "mimetype": "text/x-python",
   "name": "python",
   "nbconvert_exporter": "python",
   "pygments_lexer": "ipython3",
   "version": "3.6.9"
  }
 },
 "nbformat": 4,
 "nbformat_minor": 4
}
